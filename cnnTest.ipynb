{
 "cells": [
  {
   "cell_type": "code",
   "execution_count": 2,
   "metadata": {},
   "outputs": [
    {
     "name": "stdout",
     "output_type": "stream",
     "text": [
      "WARNING:tensorflow:From c:\\Users\\gandr\\Documents\\VSproj\\PDS-Piano\\.venv\\lib\\site-packages\\keras\\src\\losses.py:2976: The name tf.losses.sparse_softmax_cross_entropy is deprecated. Please use tf.compat.v1.losses.sparse_softmax_cross_entropy instead.\n",
      "\n"
     ]
    }
   ],
   "source": [
    "# Dependencias\n",
    "import pickle\n",
    "import tensorflow as tf\n",
    "import cv2\n",
    "import mediapipe as mp\n",
    "import numpy as np"
   ]
  },
  {
   "cell_type": "code",
   "execution_count": 1,
   "metadata": {},
   "outputs": [
    {
     "ename": "NameError",
     "evalue": "name 'tf' is not defined",
     "output_type": "error",
     "traceback": [
      "\u001b[1;31m---------------------------------------------------------------------------\u001b[0m",
      "\u001b[1;31mNameError\u001b[0m                                 Traceback (most recent call last)",
      "Cell \u001b[1;32mIn[1], line 2\u001b[0m\n\u001b[0;32m      1\u001b[0m \u001b[38;5;66;03m# Cargamos el modelo\u001b[39;00m\n\u001b[1;32m----> 2\u001b[0m model \u001b[38;5;241m=\u001b[39m \u001b[43mtf\u001b[49m\u001b[38;5;241m.\u001b[39mkeras\u001b[38;5;241m.\u001b[39mmodels\u001b[38;5;241m.\u001b[39mload_model(\u001b[38;5;124m'\u001b[39m\u001b[38;5;124m./model/cnn_model.h5\u001b[39m\u001b[38;5;124m'\u001b[39m)\n\u001b[0;32m      3\u001b[0m labels_dict \u001b[38;5;241m=\u001b[39m {\u001b[38;5;241m0\u001b[39m: \u001b[38;5;124m'\u001b[39m\u001b[38;5;124mPeace\u001b[39m\u001b[38;5;124m'\u001b[39m, \u001b[38;5;241m1\u001b[39m: \u001b[38;5;124m'\u001b[39m\u001b[38;5;124mLike\u001b[39m\u001b[38;5;124m'\u001b[39m} \u001b[38;5;66;03m# Labels para las clases\u001b[39;00m\n",
      "\u001b[1;31mNameError\u001b[0m: name 'tf' is not defined"
     ]
    }
   ],
   "source": [
    "# Cargamos el modelo\n",
    "model = tf.keras.models.load_model('./model/cnn_model.h5')\n",
    "labels_dict = {0: 'Peace', 1: 'Like'} # Labels para las clases"
   ]
  },
  {
   "cell_type": "code",
   "execution_count": 3,
   "metadata": {},
   "outputs": [],
   "source": [
    "def app():\n",
    "    # Definimos la captura de video\n",
    "    cap = cv2.VideoCapture(0)\n",
    "\n",
    "    # Definimos el módulo de manos de MediaPipe\n",
    "    mp_hands = mp.solutions.hands\n",
    "    mp_drawing = mp.solutions.drawing_utils\n",
    "    mp_drawing_styles = mp.solutions.drawing_styles\n",
    "\n",
    "    hands = mp_hands.Hands(static_image_mode=True, min_detection_confidence=0.5, max_num_hands=2)\n",
    "\n",
    "    while True:\n",
    "        # Lista para almacenar características para cada mano individual\n",
    "        data_aux_list = [] \n",
    "\n",
    "        # Leemos un fotograma de la cámara\n",
    "        ret, frame = cap.read()\n",
    "\n",
    "        # Obtenemos las dimensiones del fotograma\n",
    "        H, W, _ = frame.shape\n",
    "\n",
    "        # Convertir el fotograma a RGB para el procesamiento con MediaPipe\n",
    "        frame_rgb = cv2.cvtColor(frame, cv2.COLOR_BGR2RGB)\n",
    "\n",
    "        # Procesar el fotograma con MediaPipe\n",
    "        results = hands.process(frame_rgb)\n",
    "\n",
    "        # Si hay manos detectadas\n",
    "        if results.multi_hand_landmarks:\n",
    "            # Para cada mano detectada\n",
    "            for hand_landmarks in results.multi_hand_landmarks:\n",
    "                # Lista para guardar las coordenadas X y Y de cada landmark\n",
    "                x_ = []\n",
    "                y_ = []\n",
    "\n",
    "                # Dibujar landmarks\n",
    "                mp_drawing.draw_landmarks(\n",
    "                    frame,\n",
    "                    hand_landmarks,\n",
    "                    mp_hands.HAND_CONNECTIONS,\n",
    "                    mp_drawing_styles.get_default_hand_landmarks_style(),\n",
    "                    mp_drawing_styles.get_default_hand_connections_style()\n",
    "                )\n",
    "\n",
    "                # Extraemos la coordenada en X y Y de esta y las guardamos en x_ y_\n",
    "                for i in range(len(hand_landmarks.landmark)):\n",
    "                    x = hand_landmarks.landmark[i].x\n",
    "                    y = hand_landmarks.landmark[i].y\n",
    "\n",
    "                    x_.append(x)\n",
    "                    y_.append(y)\n",
    "\n",
    "                # Lista para guardar las coordenadas normalizadas\n",
    "                data_aux = []\n",
    "\n",
    "                # Normalizar y almacenar las coordenadas en data_aux\n",
    "                for i in range(len(hand_landmarks.landmark)):\n",
    "                    x = hand_landmarks.landmark[i].x\n",
    "                    y = hand_landmarks.landmark[i].y\n",
    "                    data_aux.append(x - min(x_))\n",
    "                    data_aux.append(y - min(y_))\n",
    "\n",
    "                # Coordenadas del cuadro delimitador\n",
    "                x1 = int(min(x_) * W) - 10\n",
    "                y1 = int(min(y_) * H) - 10\n",
    "\n",
    "                x2 = int(max(x_) * W) - 10\n",
    "                y2 = int(max(y_) * H) - 10\n",
    "\n",
    "                # Realizar la predicción\n",
    "                data_aux_reshaped = np.asarray(data_aux).reshape(-1, 6, 7, 1)\n",
    "                data_aux_reshaped = data_aux_reshaped.astype(np.float32)\n",
    "                prediction = model.predict(data_aux_reshaped)\n",
    "                predicted_class_index = np.argmax(prediction)\n",
    "                # Obtener el nombre de la clase predicha\n",
    "                predicted_character = labels_dict[predicted_class_index]\n",
    "\n",
    "\n",
    "                # En data_aux_list guardamos las coordenadas normalizadas, las coordenadas del cuadro delimitador y el nombre la clase\n",
    "                data_aux_list.append((data_aux, (x1, y1, x2, y2, predicted_character)))\n",
    "\n",
    "        # Iterar a traves de cada mano y mostrar los resultados utilizando los valores almacenados\n",
    "        for data_aux, (x1, y1, x2, y2, predicted_character) in data_aux_list:\n",
    "            # Mostrar el resultado para cada mano utilizando las coordenadas del cuadro delimitador y el carácter predicho\n",
    "            cv2.putText(frame, predicted_character, (x1, y1 - 10), cv2.FONT_HERSHEY_SIMPLEX, 1.3, (0, 0, 0), 3, cv2.LINE_AA)\n",
    "        cv2.putText(frame, 'Press \"Esc\" to exit', (0, frame.shape[0] - 10),\n",
    "                    cv2.FONT_HERSHEY_SIMPLEX, 0.7, (0, 0, 255), 2, cv2.LINE_AA)\n",
    "        # Mostrar el fotograma resultante\n",
    "        cv2.imshow('frame', frame)\n",
    "\n",
    "        # ESC para salir\n",
    "        key = cv2.waitKey(1)\n",
    "        if key == 27:\n",
    "            break\n",
    "\n",
    "    # Liberar la cámara y cerrar todas las ventanas\n",
    "    cap.release()\n",
    "    cv2.destroyAllWindows()\n"
   ]
  },
  {
   "cell_type": "code",
   "execution_count": 4,
   "metadata": {},
   "outputs": [
    {
     "name": "stdout",
     "output_type": "stream",
     "text": [
      "1/1 [==============================] - 0s 198ms/step\n"
     ]
    },
    {
     "ename": "UnboundLocalError",
     "evalue": "local variable 'predicted_character' referenced before assignment",
     "output_type": "error",
     "traceback": [
      "\u001b[1;31m---------------------------------------------------------------------------\u001b[0m",
      "\u001b[1;31mUnboundLocalError\u001b[0m                         Traceback (most recent call last)",
      "Cell \u001b[1;32mIn[4], line 2\u001b[0m\n\u001b[0;32m      1\u001b[0m \u001b[38;5;66;03m# Llamar a la función principal\u001b[39;00m\n\u001b[1;32m----> 2\u001b[0m \u001b[43mapp\u001b[49m\u001b[43m(\u001b[49m\u001b[43m)\u001b[49m\n",
      "Cell \u001b[1;32mIn[3], line 80\u001b[0m, in \u001b[0;36mapp\u001b[1;34m()\u001b[0m\n\u001b[0;32m     76\u001b[0m         predicted_class \u001b[38;5;241m=\u001b[39m labels_dict[predicted_class_index]\n\u001b[0;32m     79\u001b[0m         \u001b[38;5;66;03m# En data_aux_list guardamos las coordenadas normalizadas, las coordenadas del cuadro delimitador y el nombre la clase\u001b[39;00m\n\u001b[1;32m---> 80\u001b[0m         data_aux_list\u001b[38;5;241m.\u001b[39mappend((data_aux, (x1, y1, x2, y2, \u001b[43mpredicted_character\u001b[49m)))\n\u001b[0;32m     82\u001b[0m \u001b[38;5;66;03m# Iterar a traves de cada mano y mostrar los resultados utilizando los valores almacenados\u001b[39;00m\n\u001b[0;32m     83\u001b[0m \u001b[38;5;28;01mfor\u001b[39;00m data_aux, (x1, y1, x2, y2, predicted_character) \u001b[38;5;129;01min\u001b[39;00m data_aux_list:\n\u001b[0;32m     84\u001b[0m     \u001b[38;5;66;03m# Mostrar el resultado para cada mano utilizando las coordenadas del cuadro delimitador y el carácter predicho\u001b[39;00m\n",
      "\u001b[1;31mUnboundLocalError\u001b[0m: local variable 'predicted_character' referenced before assignment"
     ]
    },
    {
     "ename": "",
     "evalue": "",
     "output_type": "error",
     "traceback": [
      "\u001b[1;31mThe Kernel crashed while executing code in the current cell or a previous cell. \n",
      "\u001b[1;31mPlease review the code in the cell(s) to identify a possible cause of the failure. \n",
      "\u001b[1;31mClick <a href='https://aka.ms/vscodeJupyterKernelCrash'>here</a> for more info. \n",
      "\u001b[1;31mView Jupyter <a href='command:jupyter.viewOutput'>log</a> for further details."
     ]
    }
   ],
   "source": [
    "# Llamar a la función principal\n",
    "app()"
   ]
  }
 ],
 "metadata": {
  "kernelspec": {
   "display_name": ".venv",
   "language": "python",
   "name": "python3"
  },
  "language_info": {
   "codemirror_mode": {
    "name": "ipython",
    "version": 3
   },
   "file_extension": ".py",
   "mimetype": "text/x-python",
   "name": "python",
   "nbconvert_exporter": "python",
   "pygments_lexer": "ipython3",
   "version": "3.9.7"
  }
 },
 "nbformat": 4,
 "nbformat_minor": 2
}
