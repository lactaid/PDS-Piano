{
 "cells": [
  {
   "cell_type": "code",
   "execution_count": 11,
   "metadata": {},
   "outputs": [],
   "source": [
    "import pickle\n",
    "import os\n",
    "import tensorflow as tf\n",
    "from sklearn.model_selection import train_test_split\n",
    "from sklearn.metrics import accuracy_score\n",
    "import numpy as np"
   ]
  },
  {
   "cell_type": "code",
   "execution_count": 12,
   "metadata": {},
   "outputs": [],
   "source": [
    "\n",
    "data_dict = pickle.load(open('./model/data.pickle', 'rb'))\n",
    "\n",
    "data = np.asarray(data_dict['data'])\n",
    "labels = np.asarray(data_dict['labels'])\n",
    "\n",
    "# Reshape data into a grid-like structure (assuming 6x7 grid for 42 features)\n",
    "data_images = data.reshape(-1, 6, 7, 1)\n",
    "\n",
    "x_train, x_test, y_train, y_test = train_test_split(data_images, labels, test_size=0.2, shuffle=True, stratify=labels)\n"
   ]
  },
  {
   "cell_type": "code",
   "execution_count": 13,
   "metadata": {},
   "outputs": [],
   "source": [
    "# Define constants\n",
    "height = 6  # Height of the input image grid\n",
    "width = 7   # Width of the input image grid\n",
    "channels = 1  # Number of channels (grayscale)\n",
    "num_classes = 2  # Number of classes\n"
   ]
  },
  {
   "cell_type": "code",
   "execution_count": 14,
   "metadata": {},
   "outputs": [],
   "source": [
    "# CNN model\n",
    "model = tf.keras.Sequential([\n",
    "    tf.keras.layers.Conv2D(8, (3, 3), activation='relu', input_shape=(height, width, channels)),\n",
    "    tf.keras.layers.MaxPooling2D((2, 2)),\n",
    "    tf.keras.layers.Flatten(),\n",
    "    tf.keras.layers.Dense(16, activation='relu'),\n",
    "    tf.keras.layers.Dropout(0.5),\n",
    "    tf.keras.layers.Dense(num_classes, activation='softmax')\n",
    "])"
   ]
  },
  {
   "cell_type": "code",
   "execution_count": 15,
   "metadata": {},
   "outputs": [],
   "source": [
    "# Compile\n",
    "model.compile(optimizer='adam',\n",
    "              loss='sparse_categorical_crossentropy',\n",
    "              metrics=['accuracy'])"
   ]
  },
  {
   "cell_type": "code",
   "execution_count": 16,
   "metadata": {},
   "outputs": [],
   "source": [
    "# Convert data types for both training and test data\n",
    "x_train = x_train.astype(np.float32)\n",
    "y_train = y_train.astype(np.int64)\n",
    "\n",
    "x_test = x_test.astype(np.float32)\n",
    "y_test = y_test.astype(np.int64)"
   ]
  },
  {
   "cell_type": "code",
   "execution_count": 17,
   "metadata": {},
   "outputs": [
    {
     "name": "stdout",
     "output_type": "stream",
     "text": [
      "Epoch 1/50\n",
      "4/4 [==============================] - 1s 55ms/step - loss: 0.7115 - accuracy: 0.4453 - val_loss: 0.6660 - val_accuracy: 0.8125\n",
      "Epoch 2/50\n",
      "4/4 [==============================] - 0s 13ms/step - loss: 0.7051 - accuracy: 0.4062 - val_loss: 0.6613 - val_accuracy: 0.8125\n",
      "Epoch 3/50\n",
      "4/4 [==============================] - 0s 13ms/step - loss: 0.6939 - accuracy: 0.4375 - val_loss: 0.6640 - val_accuracy: 0.8125\n",
      "Epoch 4/50\n",
      "4/4 [==============================] - 0s 12ms/step - loss: 0.6796 - accuracy: 0.6328 - val_loss: 0.6665 - val_accuracy: 0.8125\n",
      "Epoch 5/50\n",
      "4/4 [==============================] - 0s 13ms/step - loss: 0.6726 - accuracy: 0.6641 - val_loss: 0.6683 - val_accuracy: 1.0000\n",
      "Epoch 6/50\n",
      "4/4 [==============================] - 0s 13ms/step - loss: 0.6726 - accuracy: 0.7109 - val_loss: 0.6678 - val_accuracy: 1.0000\n",
      "Epoch 7/50\n",
      "4/4 [==============================] - 0s 13ms/step - loss: 0.6689 - accuracy: 0.6797 - val_loss: 0.6668 - val_accuracy: 1.0000\n",
      "Epoch 8/50\n",
      "4/4 [==============================] - 0s 12ms/step - loss: 0.6660 - accuracy: 0.6875 - val_loss: 0.6626 - val_accuracy: 1.0000\n",
      "Epoch 9/50\n",
      "4/4 [==============================] - 0s 12ms/step - loss: 0.6535 - accuracy: 0.7734 - val_loss: 0.6597 - val_accuracy: 1.0000\n",
      "Epoch 10/50\n",
      "4/4 [==============================] - 0s 12ms/step - loss: 0.6608 - accuracy: 0.7109 - val_loss: 0.6549 - val_accuracy: 1.0000\n",
      "Epoch 11/50\n",
      "4/4 [==============================] - 0s 11ms/step - loss: 0.6514 - accuracy: 0.7891 - val_loss: 0.6524 - val_accuracy: 1.0000\n",
      "Epoch 12/50\n",
      "4/4 [==============================] - 0s 12ms/step - loss: 0.6344 - accuracy: 0.8438 - val_loss: 0.6472 - val_accuracy: 1.0000\n",
      "Epoch 13/50\n",
      "4/4 [==============================] - 0s 24ms/step - loss: 0.6392 - accuracy: 0.8125 - val_loss: 0.6439 - val_accuracy: 1.0000\n",
      "Epoch 14/50\n",
      "4/4 [==============================] - 0s 12ms/step - loss: 0.6347 - accuracy: 0.8672 - val_loss: 0.6360 - val_accuracy: 1.0000\n",
      "Epoch 15/50\n",
      "4/4 [==============================] - 0s 14ms/step - loss: 0.6235 - accuracy: 0.8672 - val_loss: 0.6307 - val_accuracy: 1.0000\n",
      "Epoch 16/50\n",
      "4/4 [==============================] - 0s 15ms/step - loss: 0.6218 - accuracy: 0.8672 - val_loss: 0.6227 - val_accuracy: 1.0000\n",
      "Epoch 17/50\n",
      "4/4 [==============================] - 0s 14ms/step - loss: 0.6091 - accuracy: 0.8984 - val_loss: 0.6148 - val_accuracy: 1.0000\n",
      "Epoch 18/50\n",
      "4/4 [==============================] - 0s 14ms/step - loss: 0.5951 - accuracy: 0.8750 - val_loss: 0.6056 - val_accuracy: 1.0000\n",
      "Epoch 19/50\n",
      "4/4 [==============================] - 0s 12ms/step - loss: 0.5777 - accuracy: 0.9141 - val_loss: 0.5952 - val_accuracy: 1.0000\n",
      "Epoch 20/50\n",
      "4/4 [==============================] - 0s 12ms/step - loss: 0.5927 - accuracy: 0.8984 - val_loss: 0.5828 - val_accuracy: 1.0000\n",
      "Epoch 21/50\n",
      "4/4 [==============================] - 0s 11ms/step - loss: 0.5695 - accuracy: 0.9062 - val_loss: 0.5744 - val_accuracy: 1.0000\n",
      "Epoch 22/50\n",
      "4/4 [==============================] - 0s 12ms/step - loss: 0.5571 - accuracy: 0.9531 - val_loss: 0.5609 - val_accuracy: 1.0000\n",
      "Epoch 23/50\n",
      "4/4 [==============================] - 0s 12ms/step - loss: 0.5842 - accuracy: 0.8672 - val_loss: 0.5471 - val_accuracy: 1.0000\n",
      "Epoch 24/50\n",
      "4/4 [==============================] - 0s 11ms/step - loss: 0.5382 - accuracy: 0.8984 - val_loss: 0.5357 - val_accuracy: 1.0000\n",
      "Epoch 25/50\n",
      "4/4 [==============================] - 0s 12ms/step - loss: 0.5322 - accuracy: 0.9141 - val_loss: 0.5189 - val_accuracy: 1.0000\n",
      "Epoch 26/50\n",
      "4/4 [==============================] - 0s 11ms/step - loss: 0.5340 - accuracy: 0.9062 - val_loss: 0.5046 - val_accuracy: 1.0000\n",
      "Epoch 27/50\n",
      "4/4 [==============================] - 0s 12ms/step - loss: 0.5164 - accuracy: 0.9062 - val_loss: 0.4874 - val_accuracy: 1.0000\n",
      "Epoch 28/50\n",
      "4/4 [==============================] - 0s 13ms/step - loss: 0.4998 - accuracy: 0.9141 - val_loss: 0.4719 - val_accuracy: 1.0000\n",
      "Epoch 29/50\n",
      "4/4 [==============================] - 0s 14ms/step - loss: 0.4862 - accuracy: 0.9219 - val_loss: 0.4564 - val_accuracy: 1.0000\n",
      "Epoch 30/50\n",
      "4/4 [==============================] - 0s 14ms/step - loss: 0.4606 - accuracy: 0.9688 - val_loss: 0.4388 - val_accuracy: 1.0000\n",
      "Epoch 31/50\n",
      "4/4 [==============================] - 0s 13ms/step - loss: 0.4541 - accuracy: 0.9297 - val_loss: 0.4232 - val_accuracy: 1.0000\n",
      "Epoch 32/50\n",
      "4/4 [==============================] - 0s 13ms/step - loss: 0.4404 - accuracy: 0.9219 - val_loss: 0.4076 - val_accuracy: 1.0000\n",
      "Epoch 33/50\n",
      "4/4 [==============================] - 0s 13ms/step - loss: 0.4301 - accuracy: 0.9375 - val_loss: 0.3902 - val_accuracy: 1.0000\n",
      "Epoch 34/50\n",
      "4/4 [==============================] - 0s 12ms/step - loss: 0.4156 - accuracy: 0.9453 - val_loss: 0.3728 - val_accuracy: 1.0000\n",
      "Epoch 35/50\n",
      "4/4 [==============================] - 0s 15ms/step - loss: 0.4076 - accuracy: 0.9375 - val_loss: 0.3547 - val_accuracy: 1.0000\n",
      "Epoch 36/50\n",
      "4/4 [==============================] - 0s 13ms/step - loss: 0.3666 - accuracy: 0.9531 - val_loss: 0.3392 - val_accuracy: 1.0000\n",
      "Epoch 37/50\n",
      "4/4 [==============================] - 0s 11ms/step - loss: 0.3944 - accuracy: 0.9375 - val_loss: 0.3201 - val_accuracy: 1.0000\n",
      "Epoch 38/50\n",
      "4/4 [==============================] - 0s 14ms/step - loss: 0.3749 - accuracy: 0.9375 - val_loss: 0.3063 - val_accuracy: 1.0000\n",
      "Epoch 39/50\n",
      "4/4 [==============================] - 0s 15ms/step - loss: 0.3626 - accuracy: 0.9453 - val_loss: 0.2854 - val_accuracy: 1.0000\n",
      "Epoch 40/50\n",
      "4/4 [==============================] - 0s 15ms/step - loss: 0.3287 - accuracy: 0.9453 - val_loss: 0.2708 - val_accuracy: 1.0000\n",
      "Epoch 41/50\n",
      "4/4 [==============================] - 0s 13ms/step - loss: 0.3383 - accuracy: 0.9531 - val_loss: 0.2547 - val_accuracy: 1.0000\n",
      "Epoch 42/50\n",
      "4/4 [==============================] - 0s 12ms/step - loss: 0.3353 - accuracy: 0.9375 - val_loss: 0.2389 - val_accuracy: 1.0000\n",
      "Epoch 43/50\n",
      "4/4 [==============================] - 0s 12ms/step - loss: 0.3156 - accuracy: 0.9531 - val_loss: 0.2241 - val_accuracy: 1.0000\n",
      "Epoch 44/50\n",
      "4/4 [==============================] - 0s 11ms/step - loss: 0.3076 - accuracy: 0.9453 - val_loss: 0.2097 - val_accuracy: 1.0000\n",
      "Epoch 45/50\n",
      "4/4 [==============================] - 0s 12ms/step - loss: 0.3272 - accuracy: 0.9688 - val_loss: 0.1949 - val_accuracy: 1.0000\n",
      "Epoch 46/50\n",
      "4/4 [==============================] - 0s 11ms/step - loss: 0.2938 - accuracy: 0.9453 - val_loss: 0.1820 - val_accuracy: 1.0000\n",
      "Epoch 47/50\n",
      "4/4 [==============================] - 0s 11ms/step - loss: 0.2748 - accuracy: 0.9609 - val_loss: 0.1693 - val_accuracy: 1.0000\n",
      "Epoch 48/50\n",
      "4/4 [==============================] - 0s 11ms/step - loss: 0.2772 - accuracy: 0.9531 - val_loss: 0.1591 - val_accuracy: 1.0000\n",
      "Epoch 49/50\n",
      "4/4 [==============================] - 0s 11ms/step - loss: 0.2947 - accuracy: 0.9531 - val_loss: 0.1473 - val_accuracy: 1.0000\n",
      "Epoch 50/50\n",
      "4/4 [==============================] - 0s 12ms/step - loss: 0.2734 - accuracy: 0.9453 - val_loss: 0.1384 - val_accuracy: 1.0000\n"
     ]
    },
    {
     "data": {
      "text/plain": [
       "<keras.src.callbacks.History at 0x1e3f8603400>"
      ]
     },
     "execution_count": 17,
     "metadata": {},
     "output_type": "execute_result"
    }
   ],
   "source": [
    "# Train the model\n",
    "model.fit(x_train, y_train, epochs=50, batch_size=32, validation_split=0.2)"
   ]
  },
  {
   "cell_type": "code",
   "execution_count": 18,
   "metadata": {},
   "outputs": [
    {
     "name": "stdout",
     "output_type": "stream",
     "text": [
      "2/2 [==============================] - 0s 4ms/step - loss: 0.1720 - accuracy: 1.0000\n",
      "100.0% of samples were classified correctly !\n"
     ]
    }
   ],
   "source": [
    "# Evaluate the model on the test set\n",
    "_, accuracy = model.evaluate(x_test, y_test)\n",
    "print('{}% of samples were classified correctly !'.format(accuracy * 100))"
   ]
  },
  {
   "cell_type": "code",
   "execution_count": 19,
   "metadata": {},
   "outputs": [
    {
     "name": "stderr",
     "output_type": "stream",
     "text": [
      "c:\\Users\\gandr\\Documents\\VSproj\\PDS-Piano\\.venv\\lib\\site-packages\\keras\\src\\engine\\training.py:3103: UserWarning: You are saving your model as an HDF5 file via `model.save()`. This file format is considered legacy. We recommend using instead the native Keras format, e.g. `model.save('my_model.keras')`.\n",
      "  saving_api.save_model(\n"
     ]
    }
   ],
   "source": [
    "# Save the model\n",
    "model.save(os.path.join('model', 'cnn_model.h5'))"
   ]
  }
 ],
 "metadata": {
  "kernelspec": {
   "display_name": ".venv",
   "language": "python",
   "name": "python3"
  },
  "language_info": {
   "codemirror_mode": {
    "name": "ipython",
    "version": 3
   },
   "file_extension": ".py",
   "mimetype": "text/x-python",
   "name": "python",
   "nbconvert_exporter": "python",
   "pygments_lexer": "ipython3",
   "version": "3.9.7"
  }
 },
 "nbformat": 4,
 "nbformat_minor": 2
}
